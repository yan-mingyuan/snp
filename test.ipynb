{
 "cells": [
  {
   "cell_type": "code",
   "execution_count": 1,
   "metadata": {},
   "outputs": [],
   "source": [
    "import ast\n",
    "import os.path as osp\n",
    "import pandas as pd\n",
    "import torch\n",
    "import torch.optim as optim\n",
    "from tqdm import tqdm"
   ]
  },
  {
   "cell_type": "code",
   "execution_count": 3,
   "metadata": {},
   "outputs": [],
   "source": [
    "# from config import PATH_PROCESSED, DEVICE, SEED, BATCH_SIZE\n",
    "from config import PATH_PROCESSED, SEED, BATCH_SIZE"
   ]
  },
  {
   "cell_type": "code",
   "execution_count": 3,
   "metadata": {},
   "outputs": [],
   "source": [
    "\n",
    "\n",
    "print(\"hr3\")\n",
    "\n",
    "\n",
    "from datautils import create_graph, load_node_csv, split_dataset\n",
    "from nnutils import *\n",
    "\n",
    "print(\"hr4\")\n",
    "\n",
    "# Step 1: Load graph data\n",
    "# Creates the graph structure and loads node mappings\n",
    "data, gene_mapping, trait_mapping = create_graph()\n",
    "\n",
    "# Step 2: Load variant features\n",
    "# Reads variant data and feature matrix\n",
    "variant_mapping, variant_x = load_node_csv(\n",
    "    osp.join(PATH_PROCESSED, 'variant_x.csv'), index_col='SNPs'\n",
    ")\n",
    "print(\"Variant features loaded from CSV.\")\n",
    "\n",
    "# Step 3: Load labels and split datasets\n",
    "# Load SNP-to-trait labels for positive samples, convert 'hpo_id' to list\n",
    "labels = pd.read_csv(\n",
    "    osp.join(PATH_PROCESSED, 'labels.csv'), \n",
    "    index_col='snps', \n",
    "    converters={'hpo_id': ast.literal_eval}\n",
    ")\n",
    "# Split into training, validation, and test sets\n",
    "train_labels, val_labels, test_labels = split_dataset(labels, random_state=SEED)\n",
    "print(\"Labels loaded and dataset split into training, validation, and test sets.\")\n",
    "\n",
    "# Step 4: Load disease-to-trait mapping for negative sampling\n",
    "# Read disease-to-trait mappings, converting 'hpo_id' into list format\n",
    "disease_to_traits = pd.read_csv(\n",
    "    osp.join(PATH_PROCESSED, 'disease_to_traits.csv'), \n",
    "    index_col='disease_index', \n",
    "    converters={'hpo_id': ast.literal_eval}\n",
    ")\n",
    "print(\"Disease-to-trait mappings loaded.\")"
   ]
  }
 ],
 "metadata": {
  "kernelspec": {
   "display_name": "var",
   "language": "python",
   "name": "python3"
  },
  "language_info": {
   "codemirror_mode": {
    "name": "ipython",
    "version": 3
   },
   "file_extension": ".py",
   "mimetype": "text/x-python",
   "name": "python",
   "nbconvert_exporter": "python",
   "pygments_lexer": "ipython3",
   "version": "3.9.19"
  }
 },
 "nbformat": 4,
 "nbformat_minor": 2
}
